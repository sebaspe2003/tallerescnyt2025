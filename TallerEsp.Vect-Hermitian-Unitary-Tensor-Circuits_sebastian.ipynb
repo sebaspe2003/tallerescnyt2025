{
 "cells": [
  {
   "cell_type": "markdown",
   "id": "c7d4de9a-e7dc-4cf3-bd8d-7da869ceb9ac",
   "metadata": {},
   "source": [
    "# Hermitian Matrices, Unitary Matrices and Tensor Product"
   ]
  },
  {
   "cell_type": "markdown",
   "id": "007db568-62bf-4098-a52f-281b41db3012",
   "metadata": {},
   "source": [
    "\n",
    "# Understanding Complex Hermitian and Unitary Matrices\n",
    "\n",
    "This tutorial delves into two pivotal concepts in quantum computing and linear algebra: complex Hermitian and Unitary matrices. Both play critical roles in quantum mechanics and quantum computing, underpinning the behavior of quantum systems and the operations performed on them.\n",
    "\n",
    "## Objectives\n",
    "- Define and explore the properties of complex Hermitian matrices.\n",
    "- Understand and implement complex Unitary matrices in Python.\n",
    "- Highlight their significance and applications in quantum computing.\n",
    "\n",
    "Prepare to enhance your mathematical toolkit with these foundational concepts, illustrated with Python examples for a hands-on learning experience.\n"
   ]
  },
  {
   "cell_type": "markdown",
   "id": "172b4789-ccc2-41be-ae1b-fff456a76c41",
   "metadata": {},
   "source": [
    "\n",
    "## Complex Hermitian Matrices\n",
    "\n",
    "A Hermitian matrix, or self-adjoint matrix, is a square matrix that is equal to its own conjugate transpose. This property makes it a natural representation of observable quantities in quantum mechanics.\n",
    "\n",
    "### Properties\n",
    "- The eigenvalues of a Hermitian matrix are always real.\n",
    "- The eigenvectors of a Hermitian matrix corresponding to different eigenvalues are orthogonal.\n",
    "- Hermitian matrices are extensively used in quantum mechanics to describe physical observables.\n",
    "\n",
    "### Python Example: Defining a Hermitian Matrix\n"
   ]
  },
  {
   "cell_type": "code",
   "execution_count": null,
   "id": "be7b7f14-c501-4fd9-a482-73f4acf8bfd9",
   "metadata": {},
   "outputs": [],
   "source": [
    "\n",
    "import numpy as np\n",
    "\n",
    "# Define a complex Hermitian matrix\n",
    "hermitian_matrix = np.array([[2+0j, 2-1j], [2+1j, 3+0j]])\n",
    "\n",
    "# Check if the matrix is Hermitian\n",
    "is_hermitian = np.allclose(hermitian_matrix, hermitian_matrix.conj().T)\n",
    "\n",
    "is_hermitian, hermitian_matrix\n"
   ]
  },
  {
   "cell_type": "markdown",
   "id": "6c6e41c4-7edb-46e0-b5a3-9dc381541312",
   "metadata": {},
   "source": [
    "\n",
    "## Complex Unitary Matrices\n",
    "\n",
    "A Unitary matrix is a square matrix whose conjugate transpose is also its inverse. Unitary matrices preserve the inner product, making them essential for describing quantum gates and evolution in quantum computing.\n",
    "\n",
    "### Properties\n",
    "- Preserves the norm of vectors, hence preserving quantum states during transformations.\n",
    "- The determinant of a Unitary matrix has an absolute value of 1.\n",
    "- Used to represent reversible quantum operations and time evolution in quantum systems.\n",
    "\n",
    "### Python Example: Defining a Unitary Matrix\n"
   ]
  },
  {
   "cell_type": "code",
   "execution_count": null,
   "id": "72119954-9647-4f66-93e9-c014c05bb48c",
   "metadata": {},
   "outputs": [],
   "source": [
    "\n",
    "# Define a complex Unitary matrix\n",
    "unitary_matrix = np.array([[1/np.sqrt(2), 1/np.sqrt(2)], [1/np.sqrt(2)*1j, -1/np.sqrt(2)*1j]])\n",
    "\n",
    "# Check if the matrix is Unitary\n",
    "# np.eye(2) returns the identity of size 2x2\n",
    "is_unitary = np.allclose(np.dot(unitary_matrix, unitary_matrix.conj().T), np.eye(2))\n",
    "\n",
    "is_unitary, unitary_matrix\n"
   ]
  },
  {
   "cell_type": "markdown",
   "id": "85750bcf-34ab-49ab-9163-509b29e719c9",
   "metadata": {},
   "source": [
    "# Tensor product"
   ]
  },
  {
   "cell_type": "markdown",
   "id": "b85487ee-1d19-47ab-a0a7-e05c8b758b13",
   "metadata": {},
   "source": [
    "\n",
    "## Tensor Product for Complex Vectors\n",
    "\n",
    "The tensor product of two complex vectors creates a new vector in a higher-dimensional space, allowing us to combine quantum states in quantum computing.\n",
    "\n",
    "### Example\n"
   ]
  },
  {
   "cell_type": "code",
   "execution_count": null,
   "id": "c4619aad-e04f-4787-a8ff-8e324f13b816",
   "metadata": {},
   "outputs": [],
   "source": [
    "\n",
    "import numpy as np\n",
    "\n",
    "# Define two complex vectors for the tensor product\n",
    "v1 = np.array([1+2j, 3+4j])\n",
    "v2 = np.array([5+6j, 7+8j])\n",
    "\n",
    "# Calculate the tensor product\n",
    "tensor_product_v = np.kron(v1, v2)\n",
    "\n",
    "tensor_product_v\n"
   ]
  },
  {
   "cell_type": "markdown",
   "id": "aa89e379-8ce8-493d-8b0e-6461a7fc1325",
   "metadata": {},
   "source": [
    "\n",
    "## Tensor Product for Complex Matrices\n",
    "\n",
    "The tensor product for matrices combines individual matrices into a larger matrix, crucial for representing multiple qubit systems in quantum computing.\n",
    "\n",
    "### Example\n"
   ]
  },
  {
   "cell_type": "code",
   "execution_count": null,
   "id": "c558e2f2-8ecf-466a-8fb4-469566157419",
   "metadata": {},
   "outputs": [],
   "source": [
    "\n",
    "# Define two complex matrices for the tensor product\n",
    "M1 = np.array([[1+2j, 3+4j], [5+6j, 7+8j]])\n",
    "M2 = np.array([[9+10j, 11+12j], [13+14j, 15+16j]])\n",
    "\n",
    "# Calculate the tensor product\n",
    "tensor_product_m = np.kron(M1, M2)\n",
    "\n",
    "tensor_product_m\n"
   ]
  },
  {
   "cell_type": "markdown",
   "id": "ffa82608-ea8c-4bc7-b357-a8552a649f0c",
   "metadata": {},
   "source": [
    "# Exercises on Complex Vector and Matrix Operations\n",
    "\n",
    "This set of exercises is designed to test your understanding of various concepts related to complex vector and matrix operations, which are foundational in quantum computing. Each exercise presents a concrete case for you to apply what you've learned about Hermitian matrices, Unitary matrices, and tensor products.\n",
    "\n",
    "NOTE: VERIFY YOUR COMPUTATIONS IN PAPER AND IN THE COMPUTER.\n",
    "\n",
    "## Exercise 1: Complex Hermitian Matrices\n",
    "\n",
    "Consider the matrix:\n",
    "\n",
    "$$ H = \\begin{bmatrix} 3 & 2+i \\\\ 2-i & 1 \\end{bmatrix} $$\n",
    "\n",
    "- Verify if $ H $ is a Hermitian matrix.\n",
    "- If it is, find its eigenvalues.\n",
    "\n",
    "## Exercise 2: Complex Unitary Matrices\n",
    "\n",
    "Consider the matrix:\n",
    "\n",
    "$$ U = \\frac{1}{\\sqrt{2}}\\begin{bmatrix} 1 & i \\\\ i & 1 \\end{bmatrix} $$\n",
    "\n",
    "- Verify if $ U $ is a Unitary matrix.\n",
    "- Compute $ UU^\\dagger $ to confirm its Unitarity, where $ U^\\dagger $ denotes the conjugate transpose of $ U $.\n",
    "\n",
    "## Exercise 3: Tensor Product for Complex Vectors\n",
    "\n",
    "Given the complex vectors:\n",
    "\n",
    "$$ \\mathbf{v} = \\begin{bmatrix} 1+i \\\\ 2-i \\end{bmatrix}, \\quad \\mathbf{w} = \\begin{bmatrix} 1-2i \\\\ 3 \\end{bmatrix} $$\n",
    "\n",
    "Calculate the tensor product $ \\mathbf{v} \\otimes \\mathbf{w} $.\n",
    "\n",
    "## Exercise 4: Tensor Product for Complex Matrices\n",
    "\n",
    "Given the matrices:\n",
    "\n",
    "$$ M_1 = \\begin{bmatrix} 0 & 1 \\\\ 1 & 0 \\end{bmatrix}, \\quad M_2 = \\begin{bmatrix} i & 0 \\\\ 0 & -i \\end{bmatrix} $$\n",
    "\n",
    "Calculate the tensor product $ M_1 \\otimes M_2 $.\n",
    "\n",
    "## Exercise 5: Modelling quantum computations with vectors and matrices\n",
    "\n",
    "Using matrices and vectors, implement a model of the Mach/Zehnder interferometer.\n",
    "\n",
    "![Mach-Zehnder interferometer](images/Mach-Zehnder-Interferometer.png)\n",
    "\n",
    "## Exercise 6: Composing quantum systems \n",
    "\n",
    "Using matrices and vectors, implement a model of the following circuit.\n",
    "\n",
    "![Mach-Zehnder interferometer](images/Deutsch-Algorithm.png)\n",
    "\n",
    "Use the following MAtrix for $U_f$:\n",
    "\n",
    "![Mach-Zehnder interferometer](images/ExampleUf.png)\n",
    "\n"
   ]
  },
  {
   "cell_type": "markdown",
   "id": "b1fa3308-3718-4a03-8059-729a3a9723de",
   "metadata": {},
   "source": [
    "# Solución Taller.\n",
    "### JOHN SEBASTIAN PEÑA SANCHEZ. \n",
    "\n",
    "## Exercise 1: Complex Hermitian Matrices\n",
    "\n",
    "Consider the matrix:\n",
    "\n",
    "$$ H = \\begin{bmatrix} 3 & 2+i \\\\ 2-i & 1 \\end{bmatrix} $$\n",
    "\n",
    "- Verify if $ H $ is a Hermitian matrix.\n",
    "- If it is, find its eigenvalues."
   ]
  },
  {
   "cell_type": "code",
   "execution_count": 5,
   "id": "ad5bf329-6a3a-458b-b79f-26e0ace274e8",
   "metadata": {},
   "outputs": [
    {
     "name": "stdout",
     "output_type": "stream",
     "text": [
      "¿Es H una matriz hermítica? True\n",
      "Eigenvalores de H: [ 4.44948974-6.70989255e-17j -0.44948974+1.15877743e-17j]\n"
     ]
    }
   ],
   "source": [
    "import numpy as np\n",
    "\n",
    "# Definir la matriz H\n",
    "H = np.array([[3, 2+1j],\n",
    "              [2-1j, 1]])\n",
    "\n",
    "# Verificar si H es hermítica\n",
    "is_hermitian = np.allclose(H, np.conj(H).T)\n",
    "print(\"¿Es H una matriz hermítica?\", is_hermitian)\n",
    "\n",
    "# Calcular los eigenvalores de H\n",
    "eigenvalues = np.linalg.eigvals(H)\n",
    "print(\"Eigenvalores de H:\", eigenvalues)"
   ]
  },
  {
   "cell_type": "markdown",
   "id": "a29366b8-3c71-422c-b6a4-508194a8f4fc",
   "metadata": {},
   "source": [
    "\n",
    "## Exercise 2: Complex Unitary Matrices\n",
    "\n",
    "Consider the matrix:\n",
    "\n",
    "$$ U = \\frac{1}{\\sqrt{2}}\\begin{bmatrix} 1 & i \\\\ i & 1 \\end{bmatrix} $$\n",
    "\n",
    "- Verify if $ U $ is a Unitary matrix.\n",
    "- Compute $ UU^\\dagger $ to confirm its Unitarity, where $ U^\\dagger $ denotes the conjugate transpose of $ U $."
   ]
  },
  {
   "cell_type": "code",
   "execution_count": 8,
   "id": "3c7747e7-0c97-4708-8663-f65c659958cf",
   "metadata": {},
   "outputs": [
    {
     "name": "stdout",
     "output_type": "stream",
     "text": [
      "¿Es U una matriz unitaria? True\n",
      "UU†:\n",
      "[[1.+0.j 0.+0.j]\n",
      " [0.+0.j 1.+0.j]]\n"
     ]
    }
   ],
   "source": [
    "import numpy as np\n",
    "\n",
    "# Definir la matriz U\n",
    "U = (1/np.sqrt(2)) * np.array([[1, 1j],\n",
    "                                [1j, 1]])\n",
    "\n",
    "# Calcular UU†\n",
    "UU_dagger = np.dot(U, np.conj(U).T)\n",
    "\n",
    "# Verificar si U es unitaria\n",
    "is_unitary = np.allclose(UU_dagger, np.eye(U.shape[0]))\n",
    "print(\"¿Es U una matriz unitaria?\", is_unitary)\n",
    "\n",
    "print(\"UU†:\")\n",
    "print(UU_dagger)"
   ]
  },
  {
   "cell_type": "markdown",
   "id": "60a84408-25ce-41a7-b32f-56b8233a5688",
   "metadata": {},
   "source": [
    "## Exercise 3: Tensor Product for Complex Vectors\n",
    "\n",
    "Given the complex vectors:\n",
    "\n",
    "$$ \\mathbf{v} = \\begin{bmatrix} 1+i \\\\ 2-i \\end{bmatrix}, \\quad \\mathbf{w} = \\begin{bmatrix} 1-2i \\\\ 3 \\end{bmatrix} $$\n",
    "\n",
    "Calculate the tensor product $ \\mathbf{v} \\otimes \\mathbf{w} $."
   ]
  },
  {
   "cell_type": "code",
   "execution_count": 10,
   "id": "2d6b5e06-f52e-4170-b700-3c34bf1a48b1",
   "metadata": {},
   "outputs": [
    {
     "name": "stdout",
     "output_type": "stream",
     "text": [
      "El producto tensorial v ⊗ w es:\n",
      "[[3.-1.j 3.+3.j]\n",
      " [0.-5.j 6.-3.j]]\n"
     ]
    }
   ],
   "source": [
    "import numpy as np\n",
    "\n",
    "# Definir los vectores v y w\n",
    "v = np.array([1+1j, 2-1j])\n",
    "w = np.array([1-2j, 3])\n",
    "\n",
    "# Calcular el producto tensorial v ⊗ w\n",
    "tensor_product = np.outer(v, w)\n",
    "\n",
    "print(\"El producto tensorial v ⊗ w es:\")\n",
    "print(tensor_product)\n"
   ]
  },
  {
   "cell_type": "markdown",
   "id": "89663414-cffb-4b95-be4f-2c8d76309ef7",
   "metadata": {},
   "source": [
    "## Exercise 4: Tensor Product for Complex Matrices\n",
    "\n",
    "Given the matrices:\n",
    "\n",
    "$$ M_1 = \\begin{bmatrix} 0 & 1 \\\\ 1 & 0 \\end{bmatrix}, \\quad M_2 = \\begin{bmatrix} i & 0 \\\\ 0 & -i \\end{bmatrix} $$\n",
    "\n",
    "Calculate the tensor product $ M_1 \\otimes M_2 $."
   ]
  },
  {
   "cell_type": "code",
   "execution_count": 11,
   "id": "257167ca-8e3b-4cf6-9742-c82930506e0f",
   "metadata": {},
   "outputs": [
    {
     "name": "stdout",
     "output_type": "stream",
     "text": [
      "El producto tensorial M1 ⊗ M2 es:\n",
      "[[0.+0.j 0.+0.j 0.+1.j 0.+0.j]\n",
      " [0.+0.j 0.-0.j 0.+0.j 0.-1.j]\n",
      " [0.+1.j 0.+0.j 0.+0.j 0.+0.j]\n",
      " [0.+0.j 0.-1.j 0.+0.j 0.-0.j]]\n"
     ]
    }
   ],
   "source": [
    "import numpy as np\n",
    "\n",
    "# Definir las matrices M1 y M2\n",
    "M1 = np.array([[0, 1],\n",
    "               [1, 0]])\n",
    "\n",
    "M2 = np.array([[1j, 0],\n",
    "               [0, -1j]])\n",
    "\n",
    "# Calcular el producto tensorial M1 ⊗ M2\n",
    "tensor_product = np.kron(M1, M2)\n",
    "\n",
    "print(\"El producto tensorial M1 ⊗ M2 es:\")\n",
    "print(tensor_product)"
   ]
  },
  {
   "cell_type": "markdown",
   "id": "761c79ba-e1e1-4be1-bf97-76b0fd7132d4",
   "metadata": {},
   "source": [
    "## Exercise 5: Modelling quantum computations with vectors and matrices\n",
    "\n",
    "Using matrices and vectors, implement a model of the Mach/Zehnder interferometer."
   ]
  },
  {
   "cell_type": "code",
   "execution_count": 12,
   "id": "423c557a-5c2e-49ff-8b8d-eef3b0c60466",
   "metadata": {},
   "outputs": [
    {
     "name": "stdout",
     "output_type": "stream",
     "text": [
      "Estado de salida después del interferómetro Mach-Zehnder: [0.35355339+0.35355339j 0.35355339+0.35355339j]\n"
     ]
    }
   ],
   "source": [
    "import numpy as np\n",
    "\n",
    "# Definir el vector de estado de entrada\n",
    "estado_entrada = np.array([1, 0])  # Suponiendo que la entrada está en el primer camino\n",
    "\n",
    "# Definir la matriz del divisor de haz\n",
    "divisor_haz = 1/np.sqrt(2) * np.array([[1, 1],\n",
    "                                        [1, -1]])\n",
    "\n",
    "# Definir la matriz del cambiador de fase\n",
    "cambiador_fase = np.array([[np.exp(1j * np.pi/4), 0],\n",
    "                           [0, np.exp(-1j * np.pi/4)]])\n",
    "\n",
    "# Definir la matriz del espejo\n",
    "espejo = np.eye(2)  # Suponiendo un espejo ideal sin cambio de fase al reflejar\n",
    "\n",
    "# Propagar a través del interferómetro\n",
    "# Primero, el estado de entrada pasa por un divisor de haz\n",
    "estado_tras_divisor = np.dot(divisor_haz, estado_entrada)\n",
    "\n",
    "# Luego, uno de los caminos pasa por un cambiador de fase\n",
    "estado_tras_cambiador = np.dot(cambiador_fase, estado_tras_divisor)\n",
    "\n",
    "# Finalmente, ambos caminos se recombinan usando otro divisor de haz\n",
    "estado_salida = np.dot(divisor_haz, np.array([estado_tras_cambiador[0], 0]))  # Ignorar el segundo camino\n",
    "\n",
    "print(\"Estado de salida después del interferómetro Mach-Zehnder:\", estado_salida)\n"
   ]
  },
  {
   "cell_type": "markdown",
   "id": "a736d3a5-4491-4519-9b97-d47e5c4770ae",
   "metadata": {},
   "source": [
    "## Exercise 6: Composing quantum systems \n",
    "\n",
    "Using matrices and vectors, implement a model of the following circuit.\n",
    "\n",
    "![Mach-Zehnder interferometer](images/Deutsch-Algorithm.png)\n",
    "\n",
    "Use the following MAtrix for $U_f$:\n",
    "\n",
    "![Mach-Zehnder interferometer](images/ExampleUf.png)"
   ]
  },
  {
   "cell_type": "code",
   "execution_count": 14,
   "id": "10557e72-3dd2-47b9-a0e1-c23d3ba5520b",
   "metadata": {},
   "outputs": [
    {
     "name": "stdout",
     "output_type": "stream",
     "text": [
      "Estado de salida después del circuito:\n",
      "[-1.23259516e-32  1.23259516e-32  1.00000000e+00 -1.23259516e-32]\n"
     ]
    }
   ],
   "source": [
    "import numpy as np\n",
    "\n",
    "# Definir las matrices de puerta cuántica\n",
    "Hadamard = 1/np.sqrt(2) * np.array([[1, 1],\n",
    "                                    [1, -1]])\n",
    "\n",
    "X_gate = np.array([[0, 1],\n",
    "                   [1, 0]])\n",
    "\n",
    "# Expandir las matrices Hadamard y X a matrices de 4x4 usando el producto tensorial\n",
    "expanded_Hadamard = np.kron(Hadamard, Hadamard)\n",
    "expanded_X_gate = np.kron(X_gate, np.eye(2))  # Usamos la matriz identidad de 2x2 para no cambiar la parte de control del X_gate\n",
    "\n",
    "# Matriz proporcionada para U_f\n",
    "Uf_gate = np.array([[1, 0, 0, 0],\n",
    "                    [0, 1, 0, 0],\n",
    "                    [0, 0, 0, 1],\n",
    "                    [0, 0, 1, 0]])\n",
    "\n",
    "# Calcular el producto de las matrices para obtener la matriz de transformación total del circuito\n",
    "total_matrix = np.dot(expanded_X_gate, np.dot(expanded_Hadamard, np.dot(Uf_gate, expanded_Hadamard)))\n",
    "\n",
    "# Definir el estado de entrada\n",
    "input_state = np.array([1, 0, 0, 0])  # Estado |00⟩\n",
    "\n",
    "# Aplicar la transformación del circuito al estado de entrada\n",
    "output_state = np.dot(total_matrix, input_state)\n",
    "\n",
    "print(\"Estado de salida después del circuito:\")\n",
    "print(output_state)"
   ]
  },
  {
   "cell_type": "code",
   "execution_count": null,
   "id": "114842ba-316e-4eca-abda-0b7a40d87c02",
   "metadata": {},
   "outputs": [],
   "source": []
  }
 ],
 "metadata": {
  "kernelspec": {
   "display_name": "Python 3 (ipykernel)",
   "language": "python",
   "name": "python3"
  },
  "language_info": {
   "codemirror_mode": {
    "name": "ipython",
    "version": 3
   },
   "file_extension": ".py",
   "mimetype": "text/x-python",
   "name": "python",
   "nbconvert_exporter": "python",
   "pygments_lexer": "ipython3",
   "version": "3.10.6"
  }
 },
 "nbformat": 4,
 "nbformat_minor": 5
}
