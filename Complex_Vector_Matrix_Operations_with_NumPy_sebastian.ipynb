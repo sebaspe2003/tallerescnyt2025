{
 "cells": [
  {
   "cell_type": "markdown",
   "id": "a07bd584",
   "metadata": {},
   "source": [
    "# Theory of Complex Vector Spaces\n",
    "Complex vector spaces extend the idea of real vector spaces by allowing vectors to have complex numbers as their components. In these spaces, vectors can be added together and multiplied by complex scalars to produce new vectors. Key operations in complex vector spaces include vector addition, scalar multiplication, vector negation, and complex conjugation."
   ]
  },
  {
   "cell_type": "markdown",
   "id": "f43fc972-23ab-4d81-aa26-c51325dac8f3",
   "metadata": {},
   "source": [
    "# Creating complex column vectors"
   ]
  },
  {
   "cell_type": "code",
   "execution_count": 1,
   "id": "029f08ba-1cdc-4928-9631-f62c51ab7aa5",
   "metadata": {},
   "outputs": [
    {
     "name": "stdout",
     "output_type": "stream",
     "text": [
      "Matrix:\n",
      " [[2 3]\n",
      " [1 4]]\n",
      "\n",
      "Vector:\n",
      " [5 6]\n",
      "\n",
      "Result of multiplication:\n",
      " [28 29]\n"
     ]
    }
   ],
   "source": [
    "import numpy as np\n",
    "\n",
    "# Define a 2x2 square matrix\n",
    "matrix = np.array([[2, 3],\n",
    "                   [1, 4]])\n",
    "\n",
    "# Define a vector of size 2\n",
    "vector = np.array([5, 6])\n",
    "\n",
    "# Multiply the matrix by the vector\n",
    "result = np.dot(matrix, vector)\n",
    "\n",
    "# Display the result\n",
    "print(\"Matrix:\\n\", matrix)\n",
    "print(\"\\nVector:\\n\", vector)\n",
    "print(\"\\nResult of multiplication:\\n\", result)\n"
   ]
  },
  {
   "cell_type": "markdown",
   "id": "975c2284",
   "metadata": {},
   "source": [
    "## Manipulating Complex Column Vectors using NumPy\n",
    "Here we demonstrate how to manipulate complex column vectors using NumPy, including operations like sum, negation, multiplication by a scalar, transpose, adjunct, and conjugate."
   ]
  },
  {
   "cell_type": "code",
   "execution_count": null,
   "id": "e8058abe",
   "metadata": {},
   "outputs": [],
   "source": [
    "\n",
    "import numpy as np\n",
    "\n",
    "# Define two complex column vectors\n",
    "v1 = np.array([[2+3j], [5-4j], [1+1j]])\n",
    "v2 = np.array([[1-1j], [3+2j], [4-4j]])\n",
    "\n",
    "# Sum\n",
    "sum_v = v1 + v2\n",
    "\n",
    "# Negation\n",
    "neg_v1 = -v1\n",
    "\n",
    "# Multiplication by a scalar\n",
    "scalar = 2 + 1j\n",
    "mult_v1 = v1 * scalar\n",
    "\n",
    "# Transpose\n",
    "transpose_v1 = v1.T\n",
    "\n",
    "# Adjunct (Conjugate transpose)\n",
    "adjunct_v1 = v1.T.conj()\n",
    "\n",
    "# Conjugate\n",
    "conjugate_v1 = np.conjugate(v1)\n",
    "\n",
    "(sum_v, neg_v1, mult_v1, transpose_v1, adjunct_v1, conjugate_v1)\n"
   ]
  },
  {
   "cell_type": "markdown",
   "id": "995ae5fc",
   "metadata": {},
   "source": [
    "# Theory of Vector Spaces using Matrices\n",
    "In the context of matrices, vector spaces can be defined where each vector is a matrix of a particular size. Operations on these matrix-vector spaces include matrix addition, scalar multiplication, matrix negation, transpose, adjunct, and conjugate. In this section, we focus on square matrices of size 3x3."
   ]
  },
  {
   "cell_type": "markdown",
   "id": "9385c1f0",
   "metadata": {},
   "source": [
    "## Manipulating Square Matrices using NumPy\n",
    "Examples of how to manipulate 3x3 square matrices using NumPy, showing operations such as sum, negation, multiplication by a scalar, conjugate, transpose, and adjunct."
   ]
  },
  {
   "cell_type": "code",
   "execution_count": 2,
   "id": "b81ecc57",
   "metadata": {},
   "outputs": [
    {
     "data": {
      "text/plain": [
       "(array([[3.+3.j, 6.+0.j, 3.-3.j],\n",
       "        [1.+1.j, 2.+5.j, 6.-2.j],\n",
       "        [7.+3.j, 8.-2.j, 5.+3.j]]),\n",
       " array([[-2.-3.j, -4.+1.j, -0.-0.j],\n",
       "        [-1.-1.j, -3.-3.j, -5.-0.j],\n",
       "        [-4.-0.j, -6.+2.j, -1.+1.j]]),\n",
       " array([[-0.5+2.5j,  2.5+1.5j,  0. +0.j ],\n",
       "        [ 0. +1.j ,  0. +3.j ,  2.5+2.5j],\n",
       "        [ 2. +2.j ,  4. +2.j ,  1. +0.j ]]),\n",
       " array([[2.-3.j, 4.+1.j, 0.-0.j],\n",
       "        [1.-1.j, 3.-3.j, 5.-0.j],\n",
       "        [4.-0.j, 6.+2.j, 1.+1.j]]),\n",
       " array([[2.+3.j, 1.+1.j, 4.+0.j],\n",
       "        [4.-1.j, 3.+3.j, 6.-2.j],\n",
       "        [0.+0.j, 5.+0.j, 1.-1.j]]),\n",
       " array([[2.-3.j, 1.-1.j, 4.-0.j],\n",
       "        [4.+1.j, 3.-3.j, 6.+2.j],\n",
       "        [0.-0.j, 5.-0.j, 1.+1.j]]))"
      ]
     },
     "execution_count": 2,
     "metadata": {},
     "output_type": "execute_result"
    }
   ],
   "source": [
    "\n",
    "# Define two 3x3 complex matrices\n",
    "m1 = np.array([[2+3j, 4-1j, 0], \n",
    "               [1+1j, 3+3j, 5], \n",
    "               [4, 6-2j, 1-1j]])\n",
    "m2 = np.array([[1, 2+1j, 3-3j], \n",
    "               [0, -1+2j, 1-2j], \n",
    "               [3+3j, 2, 4+4j]])\n",
    "\n",
    "# Sum\n",
    "sum_m = m1 + m2\n",
    "\n",
    "# Negation\n",
    "neg_m1 = -m1\n",
    "\n",
    "# Multiplication by a scalar\n",
    "scalar = 0.5 + 0.5j\n",
    "mult_m1 = m1 * scalar\n",
    "\n",
    "# Conjugate\n",
    "conjugate_m1 = np.conjugate(m1)\n",
    "\n",
    "# Transpose\n",
    "transpose_m1 = m1.T\n",
    "\n",
    "# Adjunct (Conjugate transpose)\n",
    "adjunct_m1 = m1.T.conj()\n",
    "\n",
    "(sum_m, neg_m1, mult_m1, conjugate_m1, transpose_m1, adjunct_m1)\n"
   ]
  },
  {
   "cell_type": "markdown",
   "id": "ed909545-8a5c-4cca-85f7-48688b597598",
   "metadata": {},
   "source": [
    "## Checking the Dimension of a Matrix\n",
    "We can check the dimension of a matrix using the `.shape` attribute."
   ]
  },
  {
   "cell_type": "code",
   "execution_count": null,
   "id": "0930dc10-af6d-427f-bbcb-75bfaf051db5",
   "metadata": {},
   "outputs": [],
   "source": [
    "# Checking the dimension of matrix1\n",
    "m1.shape"
   ]
  },
  {
   "cell_type": "markdown",
   "id": "b3fe896b",
   "metadata": {},
   "source": [
    "## Action of a Matrix on a Vector\n",
    "Finally, examples of how to use Python to multiply a 3x3 square matrix by a 3x1 column vector."
   ]
  },
  {
   "cell_type": "code",
   "execution_count": null,
   "id": "e514d047",
   "metadata": {},
   "outputs": [],
   "source": [
    "\n",
    "# Multiplying a 3x3 matrix by a 3x1 vector\n",
    "result = np.dot(m1, v1)\n",
    "result\n"
   ]
  },
  {
   "cell_type": "markdown",
   "id": "5adf9d8a-af43-4074-ab1a-3cabdc4accff",
   "metadata": {},
   "source": [
    "# Exercises on Complex Vectors and Matrices with Concrete Cases\n",
    "\n",
    "This set of exercises focuses on operations with complex column vectors and complex square matrices, including concrete cases with vectors and matrices written in LaTeX format.\n",
    "\n",
    "## Complex Column Vector Operations\n",
    "\n",
    "### Exercise 1: Sum of Two Complex Vectors\n",
    "Given two complex vectors \n",
    "$$ v1 = \\begin{bmatrix} 1 + 2i \\\\ 3 - i \\end{bmatrix} $$ \n",
    "and \n",
    "$$ v2 = \\begin{bmatrix} 2 - i \\\\ 4 + 2i \\end{bmatrix} $$, \n",
    "find their sum.\n",
    "\n",
    "### Exercise 2: Negation of a Complex Vector\n",
    "Given a complex vector \n",
    "$$ v = \\begin{bmatrix} 2 + 3i \\\\ 1 - 2i \\end{bmatrix} $$, \n",
    "find its negation.\n",
    "\n",
    "### Exercise 3: Multiplication of a Complex Vector by a Scalar\n",
    "Multiply the complex vector \n",
    "$$ v = \\begin{bmatrix} 1 - i \\\\ 2 + 2i \\end{bmatrix} $$ \n",
    "by the complex scalar $$ 3 + i $$.\n",
    "\n",
    "### Exercise 4: Transpose of a Complex Vector\n",
    "Find the transpose of the complex vector \n",
    "$$ v = \\begin{bmatrix} 2 - i \\\\ 3 + 4i \\end{bmatrix} $$.\n",
    "\n",
    "### Exercise 5: Conjugate of a Complex Vector\n",
    "Compute the conjugate of the complex vector \n",
    "$$ v = \\begin{bmatrix} 1 + i \\\\ 2 - 3i \\end{bmatrix} $$.\n",
    "\n",
    "### Exercise 6: Adjunct (Conjugate Transpose) of a Complex Vector\n",
    "Find the adjunct (or conjugate transpose) of the complex vector \n",
    "$$ v = \\begin{bmatrix} 1 - 2i \\\\ 3 + i \\end{bmatrix} $$.\n",
    "\n",
    "## Complex Square Matrix Operations\n",
    "\n",
    "### Exercise 7: Sum of Two Complex Matrices\n",
    "Given two complex matrices \n",
    "$$ m1 = \\begin{bmatrix} 1 + i & 2 - i \\\\ 3 + 2i & 4 \\end{bmatrix} $$ \n",
    "and \n",
    "$$ m2 = \\begin{bmatrix} 2 - 3i & 1 \\\\ i & 2 + 2i \\end{bmatrix} $$, \n",
    "calculate their sum.\n",
    "\n",
    "### Exercise 8: Negation of a Complex Matrix\n",
    "Find the negation of the complex matrix \n",
    "$$ m = \\begin{bmatrix} 2 + i & 3 \\\\ 1 - i & 2 + 2i \\end{bmatrix} $$.\n",
    "\n",
    "### Exercise 9: Multiplication of a Complex Matrix by a Scalar\n",
    "Multiply the complex matrix \n",
    "$$ m = \\begin{bmatrix} 1 - i & 2 \\\\ 3 + i & 4 - 2i \\end{bmatrix} $$ \n",
    "by the complex scalar $$ 2 + 3i $$.\n",
    "\n",
    "### Exercise 10: Conjugate of a Complex Matrix\n",
    "Compute the conjugate of the complex matrix \n",
    "$$ m = \\begin{bmatrix} 1 + i & 2 \\\\ 3 - i & 4 + 2i \\end{bmatrix} $$.\n",
    "\n",
    "### Exercise 11: Transpose of a Complex Matrix\n",
    "Find the transpose of the complex matrix \n",
    "$$ m = \\begin{bmatrix} 1 - i & 2 + 2i \\\\ 3 & 4 - i \\end{bmatrix} $$.\n",
    "\n",
    "### Exercise 12: Adjunct (Conjugate Transpose) of a Complex Matrix\n",
    "Calculate the adjunct (or conjugate transpose) of the complex matrix \n",
    "$$ m = \\begin{bmatrix} 1 + 2i & 3 - i \\\\ 4 & 5 + i \\end{bmatrix} $$.\n",
    "\n",
    "### Exercise 13: Checking the Dimensions of a Matrix\n",
    "Determine the dimensions of the complex matrix \n",
    "$$ m = \\begin{bmatrix} 1 - i & 2 \\\\ 3 + 2i & 4 - i \\end{bmatrix} $$.\n",
    "\n",
    "## Multiplication of Matrices and Vectors\n",
    "\n",
    "### Exercise 14: Multiplying a Complex Square Matrix by a Complex Column Vector\n",
    "Multiply the complex square matrix \n",
    "$$ m = \\begin{bmatrix} 1 + i & 2 - i \\\\ 3 & 4 + i \\end{bmatrix} $$ \n",
    "by the complex column vector \n",
    "$$ v = \\begin{bmatrix} 2 - i \\\\ 1 + 3i \\end{bmatrix} $$.\n",
    "\n",
    "## Instructions\n",
    "For each exercise, ensure to display both the input (vectors/matrices) and the result of the operation.Use NumPy for these exercises to practice handling complex numbers and matrix operations in Python.\n"
   ]
  },
  {
   "cell_type": "markdown",
   "id": "f6a3d521-700c-46e4-bf62-a35438218205",
   "metadata": {},
   "source": [
    "# Resolviendo ejercicios:\n",
    "### JOHN SEBASTIAN PEÑA SANCHEZ.\n",
    "# Ejercicio 1: Adición de vectores complejos.\n",
    "\n",
    "Dado dos vectores complejos \n",
    "$$ v1 = \\begin{bmatrix} 3 + 4i \\\\ 2 - 3i \\end{bmatrix} $$ \n",
    "y \n",
    "$$ v2 = \\begin{bmatrix} 1 - 2i \\\\ 5 + i \\end{bmatrix} $$, \n",
    "encuentra su suma.\n"
   ]
  },
  {
   "cell_type": "code",
   "execution_count": 24,
   "id": "cb0ee733-8c7c-43bb-92fe-35a8103389a4",
   "metadata": {},
   "outputs": [
    {
     "name": "stdout",
     "output_type": "stream",
     "text": [
      "El resultado de la suma de los dos vectores es:\n",
      "[[4.+2.j]\n",
      " [7.-2.j]]\n"
     ]
    }
   ],
   "source": [
    "import numpy as np\n",
    "\n",
    "# Definir los nuevos vectores como matrices\n",
    "v1 = np.array([[3+4j],\n",
    "               [2-3j]])\n",
    "\n",
    "v2 = np.array([[1-2j],\n",
    "               [5+1j]])\n",
    "\n",
    "# Sumar los vectores\n",
    "resultado = v1 + v2\n",
    "\n",
    "# Imprimir resultado\n",
    "print(\"El resultado de la suma de los dos vectores es:\")\n",
    "print(resultado)"
   ]
  },
  {
   "cell_type": "markdown",
   "id": "a84f7ec9-d1da-45c3-9e30-81c16fb96e81",
   "metadata": {},
   "source": [
    "### El resultado de la suma de los dos vectores es:\n",
    "\n",
    "$$\n",
    "\\begin{bmatrix}\n",
    "4 + 2i \\\\\n",
    "7 - 2i\n",
    "\\end{bmatrix}\n",
    "$$"
   ]
  },
  {
   "cell_type": "markdown",
   "id": "cb887b3f-9890-497c-85a8-9e23d0ee70c1",
   "metadata": {},
   "source": [
    "# Ejercicio 2: Inverso (aditivo) de un vector complejos.\n",
    "\n",
    "Dado un vector complejo \n",
    "$$ v = \\begin{bmatrix} 2 + 3i \\\\ -1 + 2i \\end{bmatrix} $$, \n",
    "encuentra su inverso aditivo.\n",
    "\n",
    "El inverso aditivo de un vector complejo se calcula multiplicando cada elemento del vector por -1."
   ]
  },
  {
   "cell_type": "code",
   "execution_count": 25,
   "id": "b551e2cb-de9a-4bdf-a20e-1c5eb5186fe2",
   "metadata": {},
   "outputs": [
    {
     "name": "stdout",
     "output_type": "stream",
     "text": [
      "El inverso aditivo del vector es:\n",
      "[[-2.-3.j]\n",
      " [ 1.-2.j]]\n"
     ]
    }
   ],
   "source": [
    "import numpy as np\n",
    "\n",
    "# Definir los nuevos vectores como matrices\n",
    "v = np.array([[2+3j],\n",
    "              [-1+2j]])\n",
    "\n",
    "# Calcular el inverso aditivo\n",
    "inverso = -v\n",
    "\n",
    "# Imprimir resultado\n",
    "print(\"El inverso aditivo del vector es:\")\n",
    "print(inverso)"
   ]
  },
  {
   "cell_type": "markdown",
   "id": "8453d9f5-d548-4a72-8b36-a29e26a28d35",
   "metadata": {},
   "source": [
    "### El resultado del inverso aditivo del vector es:\n",
    "\n",
    "$$\n",
    "\\begin{bmatrix}\n",
    "-2 - 3i \\\\\n",
    "1 - 2i\n",
    "\\end{bmatrix}\n",
    "$$"
   ]
  },
  {
   "cell_type": "markdown",
   "id": "74c6df8f-8ff0-4d32-b9d3-bb26106ab873",
   "metadata": {},
   "source": [
    "# Ejercicio 3: Multiplicación de un escalar por un vector complejo.\n",
    "Dado un vector complejo \n",
    "$$ v = \\begin{bmatrix} 2 + 3i \\\\ 1 - 4i \\end{bmatrix} $$\n",
    "y un escalar $k = 2$, encuentra el producto de $k$ por el vector $v$.\n"
   ]
  },
  {
   "cell_type": "code",
   "execution_count": 26,
   "id": "7ac0fdf7-1868-4a5d-b085-f652f2b3cb56",
   "metadata": {},
   "outputs": [
    {
     "name": "stdout",
     "output_type": "stream",
     "text": [
      "Producto del escalar y el vector complejo: [4.+6.j 2.-8.j]\n"
     ]
    }
   ],
   "source": [
    "import numpy as np\n",
    "\n",
    "def multiplicacion_escalar_vector(escalar, vector):\n",
    "    resultado_multiplicacion = np.multiply(escalar, vector)\n",
    "    return resultado_multiplicacion\n",
    "\n",
    "# Escalar dado\n",
    "escalar = 2\n",
    "\n",
    "# Vector complejo dado\n",
    "vec = [2 + 3j, 1 - 4j]\n",
    "\n",
    "# Realizar la multiplicación del escalar por el vector\n",
    "resultado = multiplicacion_escalar_vector(escalar, vec)\n",
    "\n",
    "# Imprimir resultado\n",
    "print(\"Producto del escalar y el vector complejo:\", resultado)"
   ]
  },
  {
   "cell_type": "markdown",
   "id": "7ea3f10b-fffb-401f-9011-6bd54bad9aea",
   "metadata": {},
   "source": [
    "El resultado de la multiplicación de un escalar por un vector complejo es:\n",
    "\n",
    "$$\n",
    "2 \\cdot \\begin{bmatrix} 2 + 3i \\\\ 1 - 4i \\end{bmatrix} = \\begin{bmatrix} 4 + 6i \\\\ 2 - 8i \\end{bmatrix}\n",
    "$$\n"
   ]
  },
  {
   "cell_type": "markdown",
   "id": "4b9e5165-b9a9-4a54-9838-90019842fb91",
   "metadata": {},
   "source": [
    "# Ejercicio 4: Transpuesta de un Vector Complejo\n",
    "\n",
    "Encuentra la transpuesta del vector complejo\n",
    "$$ v = \\begin{bmatrix} 5 + 2i \\\\ 1 - 3i \\end{bmatrix} $$."
   ]
  },
  {
   "cell_type": "code",
   "execution_count": 27,
   "id": "4a47c590-dca7-4bf4-9fe3-f892bafd591a",
   "metadata": {},
   "outputs": [
    {
     "name": "stdout",
     "output_type": "stream",
     "text": [
      "Transpuesta del vector:\n",
      "[[5.+2.j 1.-3.j]]\n"
     ]
    }
   ],
   "source": [
    "import numpy as np\n",
    "\n",
    "# Definir el vector complejo\n",
    "v = np.array([[5 + 2j],\n",
    "              [1 - 3j]])\n",
    "\n",
    "# Calcular la transpuesta del vector\n",
    "resultado_transpuesta = np.transpose(v)\n",
    "\n",
    "# Imprimir el resultado\n",
    "print(\"Transpuesta del vector:\")\n",
    "print(resultado_transpuesta)"
   ]
  },
  {
   "cell_type": "markdown",
   "id": "5b207004-e4f2-4a60-97af-14b743d6f538",
   "metadata": {},
   "source": [
    "### El resultado de la transpuesta del vector complejo es: \n",
    "$$ v^T = \\begin{bmatrix} 5 + 2i & 1 - 3i \\end{bmatrix} $$"
   ]
  },
  {
   "cell_type": "markdown",
   "id": "112ecdbd-81a5-4a4a-8a0b-40fded08484f",
   "metadata": {},
   "source": [
    "# Ejercicio 5: Conjugado de un Vector Complejo\n",
    "\n",
    "Calcula el conjugado del vector complejo. \n",
    "$$ v = \\begin{bmatrix} 3 - 2i \\\\ 4 + 5i \\end{bmatrix} $$\n"
   ]
  },
  {
   "cell_type": "code",
   "execution_count": 28,
   "id": "a5c95b14-3701-4f6c-97cc-aea2fcc819d2",
   "metadata": {},
   "outputs": [
    {
     "name": "stdout",
     "output_type": "stream",
     "text": [
      "El conjugado del vector complejo es:\n",
      "[(3+2j), (4-5j)]\n"
     ]
    }
   ],
   "source": [
    "def conjugado_vector_complejo(vector):\n",
    "    conjugado = [elemento.conjugate() for elemento in vector]\n",
    "    return conjugado\n",
    "\n",
    "# Vector complejo dado\n",
    "v = [3 - 2j, 4 + 5j]\n",
    "\n",
    "# Calcular el conjugado del vector complejo\n",
    "resultado = conjugado_vector_complejo(v)\n",
    "\n",
    "# Imprimir el resultado\n",
    "print(\"El conjugado del vector complejo es:\")\n",
    "print(resultado)"
   ]
  },
  {
   "cell_type": "markdown",
   "id": "0a281d4b-b35c-4827-8d6f-ca8681ab1932",
   "metadata": {},
   "source": [
    "### El conjugado del vector complejo es:\n",
    "$$ \\begin{bmatrix} 3 + 2i \\\\ 4 - 5i \\end{bmatrix} $$\n"
   ]
  },
  {
   "cell_type": "markdown",
   "id": "60b4f549-2122-4d0d-b986-0417e95eb428",
   "metadata": {},
   "source": [
    "# Ejercicio 6: Adjunta (Transpuesta Conjugada) de un Vector Complejo\n",
    "\n",
    "Encuentra la adjunta (o transpuesta conjugada) del vector complejo.\n",
    "$$ v = \\begin{bmatrix} 2 + i \\\\ 4 - 3i \\end{bmatrix} $$"
   ]
  },
  {
   "cell_type": "code",
   "execution_count": 29,
   "id": "f5bbedc0-6a36-48d4-80b0-8d40d2eb832a",
   "metadata": {},
   "outputs": [
    {
     "name": "stdout",
     "output_type": "stream",
     "text": [
      "La adjunta (transpuesta conjugada) del vector complejo es:\n",
      "[[2.-1.j 4.+3.j]]\n"
     ]
    }
   ],
   "source": [
    "import numpy as np\n",
    "\n",
    "# Definir el vector complejo\n",
    "v = np.array([[2 + 1j],\n",
    "              [4 - 3j]])\n",
    "\n",
    "# Encontrar la adjunta del vector complejo (transpuesta conjugada)\n",
    "adjunta_v = np.conj(v.T)\n",
    "\n",
    "# Imprimir la adjunta del vector complejo\n",
    "print(\"La adjunta (transpuesta conjugada) del vector complejo es:\")\n",
    "print(adjunta_v)"
   ]
  },
  {
   "cell_type": "markdown",
   "id": "2fe1a207-2ddf-4210-91c3-1861c90a0990",
   "metadata": {},
   "source": [
    "### La adjunta (transpuesta conjugada) del vector complejo es:\n",
    "\n",
    "$$ v^\\dagger = \\begin{bmatrix} 2 - i & 4 + 3i \\end{bmatrix} $$"
   ]
  },
  {
   "cell_type": "markdown",
   "id": "9e20acf1-f5a0-45bf-9595-4f4f5b1aac52",
   "metadata": {},
   "source": [
    "# Ejercicio 7: Suma de Dos Matrices Complejas\n",
    "\n",
    "Dadas dos matrices complejas \n",
    "$$ m1 = \\begin{bmatrix} 3 + i & 4 - 2i \\\\ 1 + 2i & 5 \\end{bmatrix} $$ \n",
    "y \n",
    "$$ m2 = \\begin{bmatrix} 1 - 2i & 3 \\\\ 2i & 4 + 3i \\end{bmatrix} $$\n",
    "calcula su suma."
   ]
  },
  {
   "cell_type": "code",
   "execution_count": 30,
   "id": "58c6d761-59cf-4ce0-aca1-6f2ceb921302",
   "metadata": {},
   "outputs": [
    {
     "name": "stdout",
     "output_type": "stream",
     "text": [
      "La suma de las matrices complejas es:\n",
      "[[4.-1.j 7.-2.j]\n",
      " [1.+4.j 9.+3.j]]\n"
     ]
    }
   ],
   "source": [
    "import numpy as np\n",
    "\n",
    "def suma_matrices_complejas(matriz1, matriz2):\n",
    "    return matriz1 + matriz2\n",
    "\n",
    "# Definir las matrices complejas\n",
    "m1 = np.array([[3 + 1j, 4 - 2j],\n",
    "               [1 + 2j, 5]])\n",
    "\n",
    "m2 = np.array([[1 - 2j, 3],\n",
    "               [2j, 4 + 3j]])\n",
    "\n",
    "# Calcular la suma de las matrices complejas\n",
    "resultado = suma_matrices_complejas(m1, m2)\n",
    "\n",
    "# Imprimir el resultado\n",
    "print(\"La suma de las matrices complejas es:\")\n",
    "print(resultado)"
   ]
  },
  {
   "cell_type": "markdown",
   "id": "828888bb-f6d8-433d-85af-cebe45d2bde7",
   "metadata": {},
   "source": [
    "### La suma de las matrices complejas es:\n",
    "\n",
    "$$\n",
    "\\begin{bmatrix} 4 - 1i & 7 - 2i \\\\ 1 + 4i & 9 + 3i \\\\ \\end{bmatrix} $$\n"
   ]
  },
  {
   "cell_type": "markdown",
   "id": "494a094b-90d1-48cd-8593-82a07437525f",
   "metadata": {},
   "source": [
    "# Exercise 8: Negation of a Complex Matrix\n",
    "Encuentra la negación de la matriz compleja \n",
    "$$ m = \\begin{bmatrix} 3 + 2i & 1 \\\\ 2 - i & 4 - 3i \\end{bmatrix} $$.\n"
   ]
  },
  {
   "cell_type": "code",
   "execution_count": 31,
   "id": "9a92a4c6-b862-47d3-b0fa-7b8b6fb3d451",
   "metadata": {},
   "outputs": [
    {
     "name": "stdout",
     "output_type": "stream",
     "text": [
      "La negación de la matriz compleja m es:\n",
      "[[-3.-2.j -1.-0.j]\n",
      " [-2.+1.j -4.+3.j]]\n"
     ]
    }
   ],
   "source": [
    "import numpy as np\n",
    "\n",
    "# Definir la matriz compleja\n",
    "m = np.array([[3 + 2j, 1],\n",
    "              [2 - 1j, 4 - 3j]])\n",
    "\n",
    "# Encontrar la negación de la matriz\n",
    "negacion_m = -m\n",
    "\n",
    "# Imprimir la solución\n",
    "print(\"La negación de la matriz compleja m es:\")\n",
    "print(negacion_m)\n"
   ]
  },
  {
   "cell_type": "markdown",
   "id": "50fee367-55be-4028-9e43-c56e3e644b00",
   "metadata": {},
   "source": [
    "### La negación de la matriz compleja es: \n",
    "$$ m = \\begin{bmatrix} -3-2j & -1-0j \\\\ -2+1j & -4+3j \\end{bmatrix} $$"
   ]
  },
  {
   "cell_type": "markdown",
   "id": "af941d3b-2df4-4999-8f69-1e758c6a9685",
   "metadata": {},
   "source": [
    " # Ejercicio 9: Multiplicación de una Matriz Compleja por un Escalar. \n",
    "Multiplica la matriz compleja\n",
    "$$ m = \\begin{bmatrix} 3 - 2i & 4 \\\\ 5 + 2i & 6 - 3i \\end{bmatrix} $$\n",
    "por el escalar complejo $$ 1 + i $$"
   ]
  },
  {
   "cell_type": "code",
   "execution_count": 32,
   "id": "98201793-4e0a-4e2a-8a50-a0ae5e2b0725",
   "metadata": {},
   "outputs": [
    {
     "name": "stdout",
     "output_type": "stream",
     "text": [
      "El resultado de multiplicar la matriz compleja por el escalar complejo es:\n",
      "[[5.+1.j 4.+4.j]\n",
      " [3.+7.j 9.+3.j]]\n"
     ]
    }
   ],
   "source": [
    "import numpy as np\n",
    "\n",
    "# Definir la matriz compleja\n",
    "m = np.array([[3 - 2j, 4],\n",
    "              [5 + 2j, 6 - 3j]])\n",
    "\n",
    "# Definir el escalar complejo\n",
    "escalar = 1 + 1j\n",
    "\n",
    "# Multiplicar la matriz por el escalar\n",
    "resultado = m * escalar\n",
    "\n",
    "# Imprimir el resultado\n",
    "print(\"El resultado de multiplicar la matriz compleja por el escalar complejo es:\")\n",
    "print(resultado)"
   ]
  },
  {
   "cell_type": "markdown",
   "id": "b52737a2-c652-4e6c-a97a-b3bde8e1fbb0",
   "metadata": {},
   "source": [
    "### El resultado de multiplicar la matriz compleja por el escalar complejo es: \n",
    "$$ m = \\begin{bmatrix} 5 + 1i & 4 + 4i \\\\ 3 + 7i & 9 + 3i \\end{bmatrix} $$\n"
   ]
  },
  {
   "cell_type": "markdown",
   "id": "d23a444a-d6ff-4b1e-a80a-d9482bff94e8",
   "metadata": {},
   "source": [
    "# Ejercicio 10: Conjugado de una Matriz Compleja\n",
    "Calcula el conjugado de la matriz compleja\n",
    "$$ m = \\begin{bmatrix} 2 - i & 3 \\\\ 4 + i & 5 - 2i \\end{bmatrix} $$"
   ]
  },
  {
   "cell_type": "code",
   "execution_count": 18,
   "id": "65e49756-a23b-420c-87e4-acbc32f5c62d",
   "metadata": {},
   "outputs": [
    {
     "name": "stdout",
     "output_type": "stream",
     "text": [
      "El conjugado de la matriz compleja es:\n",
      "[[2.+1.j 3.-0.j]\n",
      " [4.-1.j 5.+2.j]]\n"
     ]
    }
   ],
   "source": [
    "import numpy as np\n",
    "\n",
    "# Definir la matriz compleja\n",
    "m = np.array([[2 - 1j, 3],\n",
    "              [4 + 1j, 5 - 2j]])\n",
    "\n",
    "# Calcular el conjugado de la matriz\n",
    "conjugado_m = np.conj(m)\n",
    "\n",
    "# Imprimir el resultado\n",
    "print(\"El conjugado de la matriz compleja es:\")\n",
    "print(conjugado_m)"
   ]
  },
  {
   "cell_type": "markdown",
   "id": "47a70444-35e7-41a8-b9d1-fa1f4d1f943b",
   "metadata": {},
   "source": [
    "### El resultado de la matriz compleja conjugada es:\n",
    "$$ m = \\begin{bmatrix} 2 + i & 3 \\\\ 4 - i & 5 + 2i \\end{bmatrix} $$"
   ]
  },
  {
   "cell_type": "markdown",
   "id": "bf764545-ae7a-44fc-a0dd-5d315be52a0b",
   "metadata": {},
   "source": [
    "# Ejercicio 11: Transpuesta de una Matriz Compleja\n",
    "\n",
    "Encuentra la transpuesta de la matriz compleja\n",
    "$$ m = \\begin{bmatrix} 2 + i & 3 - i \\\\ 4 + 2i & 5 \\end{bmatrix} $$\n"
   ]
  },
  {
   "cell_type": "code",
   "execution_count": 19,
   "id": "60b14524-b26c-4223-9edd-e8410c127b81",
   "metadata": {},
   "outputs": [
    {
     "name": "stdout",
     "output_type": "stream",
     "text": [
      "La transpuesta de la matriz compleja es:\n",
      "[[2.+1.j 4.+2.j]\n",
      " [3.-1.j 5.+0.j]]\n"
     ]
    }
   ],
   "source": [
    "import numpy as np\n",
    "\n",
    "# Definir la matriz compleja\n",
    "m = np.array([[2 + 1j, 3 - 1j],\n",
    "              [4 + 2j, 5]])\n",
    "\n",
    "# Calcular la transpuesta de la matriz\n",
    "transpuesta_m = np.transpose(m)\n",
    "\n",
    "# Imprimir el resultado\n",
    "print(\"La transpuesta de la matriz compleja es:\")\n",
    "print(transpuesta_m)"
   ]
  },
  {
   "cell_type": "markdown",
   "id": "63a6e2e3-5458-41a4-b38e-816ff628dc8d",
   "metadata": {},
   "source": [
    "### El resultado de la transpuesta de la matriz compleja es:\n",
    "$$ m^T = \\begin{bmatrix} 2 + i & 4 + 2i \\\\ 3 - i & 5 \\end{bmatrix} $$"
   ]
  },
  {
   "cell_type": "markdown",
   "id": "f575a2e7-b6e1-49fd-9483-f2934aefe89f",
   "metadata": {},
   "source": [
    "# Ejercicio 11: Transpuesta de una Matriz Compleja\n",
    "\n",
    "Encuentra la transpuesta de la matriz compleja\n",
    "$$ m = \\begin{bmatrix} 2 + i & 3 - i \\\\ 4 + 2i & 5 \\end{bmatrix} $$\n"
   ]
  },
  {
   "cell_type": "markdown",
   "id": "6f48bbd5-4624-465a-836a-4df7de8e3456",
   "metadata": {},
   "source": [
    "# Ejercicio 12: Adjunta (Transpuesta Conjugada) de una Matriz Compleja\n",
    "\n",
    "Calcula la adjunta (o transpuesta conjugada) de la matriz compleja\n",
    "$$ m = \\begin{bmatrix} 3 + 4i & 1 - 2i \\\\ 2 + i & 4 \\end{bmatrix} $$"
   ]
  },
  {
   "cell_type": "code",
   "execution_count": 21,
   "id": "f89e7cc7-b420-40e8-8f8e-b873297798de",
   "metadata": {},
   "outputs": [
    {
     "name": "stdout",
     "output_type": "stream",
     "text": [
      "La adjunta de la matriz compleja es:\n",
      "[[2.+1.j 4.-2.j]\n",
      " [3.-0.j 5.+1.j]]\n"
     ]
    }
   ],
   "source": [
    "import numpy as np\n",
    "\n",
    "# Definir la matriz compleja\n",
    "m = np.array([[2 - 1j, 3],\n",
    "              [4 + 2j, 5 - 1j]])\n",
    "\n",
    "# Calcular la adjunta de la matriz\n",
    "adjunta_m = np.conj(m.T)\n",
    "\n",
    "# Imprimir el resultado\n",
    "print(\"La adjunta de la matriz compleja es:\")\n",
    "print(adjunta_m)\n"
   ]
  },
  {
   "cell_type": "markdown",
   "id": "031efb3d-9bfc-4430-a6a7-9c3050dc3ca2",
   "metadata": {},
   "source": [
    "### La adjunta de la matriz compleja m es:\n",
    "$$ m^\\dagger = \\begin{bmatrix} 2 + i & 4 - 2i \\\\ 3 & 5 + i \\end{bmatrix} $$"
   ]
  },
  {
   "cell_type": "markdown",
   "id": "ccaeb10e-8f87-4d1f-9871-cb5c64c011d0",
   "metadata": {},
   "source": [
    "# Ejercicio 13: Verificación de las Dimensiones de una Matriz\n",
    "\n",
    "Determina las dimensiones de la matriz compleja\n",
    "$$ m = \\begin{bmatrix} 2 - 3i & 1 \\\\ 2i & 4 + 3i \\end{bmatrix} $$.\n"
   ]
  },
  {
   "cell_type": "code",
   "execution_count": 22,
   "id": "c53f38ef-7d26-432d-ac48-15a6b2f0ed1b",
   "metadata": {},
   "outputs": [
    {
     "name": "stdout",
     "output_type": "stream",
     "text": [
      "Las dimensiones de la matriz compleja son: (2, 2)\n"
     ]
    }
   ],
   "source": [
    "import numpy as np\n",
    "\n",
    "# Definir la matriz compleja\n",
    "m = np.array([[2 - 3j, 1],\n",
    "              [2j, 4 + 3j]])\n",
    "\n",
    "# Obtener las dimensiones de la matriz\n",
    "dimensiones = m.shape\n",
    "\n",
    "# Imprimir las dimensiones\n",
    "print(\"Las dimensiones de la matriz compleja son:\", dimensiones)"
   ]
  },
  {
   "cell_type": "markdown",
   "id": "d33ab806-29fa-48d6-8666-d76ea21daeeb",
   "metadata": {},
   "source": [
    "### Las dimensiones de la matriz compleja son:\n",
    "(2, 2)\n"
   ]
  },
  {
   "cell_type": "markdown",
   "id": "3e9e344c-50ae-47e5-8d35-2cfb788ba55c",
   "metadata": {},
   "source": [
    "# Ejercicio 14: Multiplicación de una Matriz Cuadrada Compleja por un Vector Columna Complejo\n",
    "\n",
    "Multiplica la matriz cuadrada compleja\n",
    "$$ m = \\begin{bmatrix} 2 + i & 3 - 2i \\\\ 4 & 5 + i \\end{bmatrix} $$ \n",
    "por el vector columna complejo\n",
    "$$ v = \\begin{bmatrix} 1 - i \\\\ 2 + 3i \\end{bmatrix} $$"
   ]
  },
  {
   "cell_type": "code",
   "execution_count": 23,
   "id": "8f75a7e2-9358-4f35-8e10-8b8583371f5a",
   "metadata": {},
   "outputs": [
    {
     "name": "stdout",
     "output_type": "stream",
     "text": [
      "El resultado de multiplicar la matriz por el vector es:\n",
      "[[15. +4.j]\n",
      " [11.+13.j]]\n"
     ]
    }
   ],
   "source": [
    "import numpy as np\n",
    "\n",
    "# Definir la matriz compleja\n",
    "m = np.array([[2 + 1j, 3 - 2j],\n",
    "              [4, 5 + 1j]])\n",
    "\n",
    "# Definir el vector complejo\n",
    "v = np.array([[1 - 1j],\n",
    "              [2 + 3j]])\n",
    "\n",
    "# Multiplicar la matriz por el vector\n",
    "resultado = np.dot(m, v)\n",
    "\n",
    "# Imprimir el resultado\n",
    "print(\"El resultado de multiplicar la matriz por el vector es:\")\n",
    "print(resultado)"
   ]
  },
  {
   "cell_type": "markdown",
   "id": "551f707f-e5f6-4e73-ae34-2d5feefb6446",
   "metadata": {},
   "source": [
    "### El resultado de multiplicar la matriz por el vector es:\n",
    "$$ \\begin{bmatrix} 15 + 4i \\\\ 11 + 13i \\end{bmatrix} $$"
   ]
  }
 ],
 "metadata": {
  "kernelspec": {
   "display_name": "Python 3 (ipykernel)",
   "language": "python",
   "name": "python3"
  },
  "language_info": {
   "codemirror_mode": {
    "name": "ipython",
    "version": 3
   },
   "file_extension": ".py",
   "mimetype": "text/x-python",
   "name": "python",
   "nbconvert_exporter": "python",
   "pygments_lexer": "ipython3",
   "version": "3.10.6"
  }
 },
 "nbformat": 4,
 "nbformat_minor": 5
}
